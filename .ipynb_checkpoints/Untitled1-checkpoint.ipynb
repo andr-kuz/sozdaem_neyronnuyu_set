{
 "cells": [
  {
   "cell_type": "code",
   "execution_count": 1,
   "id": "d6c44cf5-642b-49e3-ac3f-2f3dd7e10d94",
   "metadata": {},
   "outputs": [],
   "source": [
    "from dataclasses import dataclass\n",
    "from typing import Callable\n",
    "from numpy._typing import NDArray\n",
    "from numpy import float64\n",
    "import numpy\n",
    "import scipy\n",
    "\n",
    "@dataclass\n",
    "class NeuralNetwork:\n",
    "    input_nodes: int\n",
    "    hidden_nodes: int\n",
    "    output_nodes: int\n",
    "    learning_rate: float\n",
    "    # в качестве функции активации используем сигмоиду\n",
    "    activation_function: Callable = lambda x: scipy.special.expit(x)\n",
    "\n",
    "    def __post_init__(self) -> None:\n",
    "        # строим матрицы весовых коэффициентов\n",
    "        # количество строк в каждой матрице определяется первым множителем, соотв. колтичеству узлов в слое, куда поступают сигналы\n",
    "        # поэтому input -> hidden; hidden -> output\n",
    "        # выбираем Гауссово распределение (random.normal), чтобы минимизировать количество весов с крайними значениями диапазона\n",
    "        # возводим в степень -0.5 (pow)\n",
    "        self.from_input_to_hidden_matrix_weights = numpy.random.normal(0., pow(self.hidden_nodes, -0.5), (self.hidden_nodes, self.input_nodes))\n",
    "        self.from_hidden_to_output_matrix_weights = numpy.random.normal(0., pow(self.output_nodes, -0.5), (self.output_nodes, self.hidden_nodes))\n",
    "\n",
    "    # опрос нейронной сети\n",
    "    def query(self, inputs: NDArray[float64]) -> list[float]:\n",
    "        # преобразовать список входных значений в двумерный массив\n",
    "        inputs = numpy.array(inputs, ndmin=2).T\n",
    "\n",
    "        # рассчитать входящие сигналы для скрытого слоя\n",
    "        hidden_inputs = numpy.dot(self.from_input_to_hidden_matrix_weights, inputs)\n",
    "        # рассчитать исходящие сигналы для скрытого слоя\n",
    "        hidden_outputs = self.activation_function(hidden_inputs)\n",
    "\n",
    "        # рассчитать входящие сигналы для выходного слоя\n",
    "        final_inputs = numpy.dot(self.from_hidden_to_output_matrix_weights, hidden_inputs)\n",
    "        # рассчитать исхоящие сигналы для выходного слоя\n",
    "        final_outputs = self.activation_function(final_inputs)\n",
    "        return final_outputs\n",
    "    \n",
    "    def train(self, inputs_list: NDArray[float64], targets_list: NDArray[float64]) -> None:\n",
    "        # преобразовать список входных значений в двухмерный массив\n",
    "        inputs = numpy.array(inputs_list, ndmin=2).T\n",
    "        targets = numpy.array(targets_list, ndmin=2).T\n",
    "\n",
    "        # рассчитать входящие сигналы для скрытого слоя\n",
    "        hidden_inputs = numpy.dot(self.from_input_to_hidden_matrix_weights, inputs)\n",
    "        # рассчитать исходящие сигналы для скрытого слоя\n",
    "        hidden_outputs = self.activation_function(hidden_inputs)\n",
    "\n",
    "        # рассчитать входящие сигналы для выхоного слоя\n",
    "        final_inputs = numpy.dot(self.from_hidden_to_output_matrix_weights, hidden_outputs)\n",
    "        # рассчитать исходящие сигналы для выходного слоя\n",
    "        final_outputs = self.activation_function(final_inputs)\n",
    "\n",
    "        # ошибки выходного слоя = (целевое значение - фактическое значение)\n",
    "        output_errors = targets - final_outputs\n",
    "        # ошибки скрытого слоя - это ошибки output_errors, распределенные пропорционально весовым\n",
    "        # коэффициентам связей и рекомбинированные на скрытых узлах\n",
    "        hidden_errors = numpy.dot(self.from_hidden_to_output_matrix_weights.T, output_errors)\n",
    "\n",
    "        # обновляем весовые коэффициенты для связей между скрытым и выходным слоями\n",
    "        self.from_hidden_to_output_matrix_weights += self.learning_rate * numpy.dot((output_errors * final_outputs * (1 - final_outputs)), numpy.transpose(hidden_outputs))\n",
    "\n",
    "        # обновляем весовые коэффициенты для связей между входным и скрытым слоями\n",
    "        self.from_input_to_hidden_matrix_weights += self.learning_rate * numpy.dot((hidden_errors * hidden_outputs * (1 - hidden_outputs)), numpy.transpose(inputs))\n"
   ]
  },
  {
   "cell_type": "code",
   "execution_count": 2,
   "id": "a390255f-02f4-45aa-be05-6658c9a310c8",
   "metadata": {},
   "outputs": [],
   "source": [
    "input_nodes = 784  # 28 weight x 28 height pixels\n",
    "hidden_nodes = 100  # arbitary\n",
    "output_nodes = 10  # we need a result in range of 0 - 9\n",
    "network = NeuralNetwork(input_nodes, hidden_nodes, output_nodes, learning_rate=0.3)"
   ]
  },
  {
   "cell_type": "code",
   "execution_count": 3,
   "id": "21d82dc2-605f-423c-9bf6-c6d222886819",
   "metadata": {},
   "outputs": [],
   "source": [
    "from utils import load_file, prepare_mnist_line\n",
    "\n",
    "content = load_file('mnist_train_100.csv', as_lines=True)\n",
    "# training\n",
    "for record in content:\n",
    "    inputs, targets = prepare_mnist_line(record)\n",
    "    network.train(inputs, targets)"
   ]
  },
  {
   "cell_type": "code",
   "execution_count": 20,
   "id": "4277df67-8d8e-430d-9eb4-7383a8a4d4d8",
   "metadata": {},
   "outputs": [
    {
     "name": "stdout",
     "output_type": "stream",
     "text": [
      "[[1.88151192e-11]\n",
      " [9.32252306e-12]\n",
      " [2.17030970e-05]\n",
      " [1.70084967e-15]\n",
      " [3.52510997e-04]\n",
      " [7.47540210e-05]\n",
      " [2.70995674e-09]\n",
      " [9.99999679e-01]\n",
      " [2.77548228e-06]\n",
      " [9.99965652e-01]]\n",
      "7\n"
     ]
    },
    {
     "data": {
      "image/png": "[encoded data removed]",
      "text/plain": [
       "<Figure size 640x480 with 1 Axes>"
      ]
     },
     "metadata": {},
     "output_type": "display_data"
    }
   ],
   "source": [
    "line_number = 9\n",
    "\n",
    "# test\n",
    "content = load_file('mnist_test_10.csv', as_lines=True)\n",
    "line = content[line_number]\n",
    "inputs, targets = prepare_mnist_line(line)\n",
    "\n",
    "from matplotlib import pyplot as plt\n",
    "from utils import get_index_of_max_value_in_array\n",
    "\n",
    "response = network.query(inputs)\n",
    "print(response)\n",
    "image_array = inputs.reshape((28, 28))\n",
    "plt.imshow(image_array, cmap='Greys', interpolation='None')\n",
    "print(get_index_of_max_value_in_array(response))"
   ]
  }
 ],
 "metadata": {
  "kernelspec": {
   "display_name": "Python 3 (ipykernel)",
   "language": "python",
   "name": "python3"
  },
  "language_info": {
   "codemirror_mode": {
    "name": "ipython",
    "version": 3
   },
   "file_extension": ".py",
   "mimetype": "text/x-python",
   "name": "python",
   "nbconvert_exporter": "python",
   "pygments_lexer": "ipython3",
   "version": "3.13.5"
  }
 },
 "nbformat": 4,
 "nbformat_minor": 5
}
