{
 "cells": [
  {
   "cell_type": "code",
   "execution_count": 1,
   "id": "0853513e-42c1-4534-b4bc-c39f3919019a",
   "metadata": {},
   "outputs": [],
   "source": [
    "import numpy"
   ]
  },
  {
   "cell_type": "code",
   "execution_count": 2,
   "id": "a83370fc-1802-4425-8a03-ff9778a465a3",
   "metadata": {},
   "outputs": [],
   "source": [
    "import matplotlib.pyplot as plt\n",
    "import matplotlib"
   ]
  },
  {
   "cell_type": "code",
   "execution_count": 5,
   "id": "7aee6155-5eae-4612-9562-ff89e923d9f7",
   "metadata": {},
   "outputs": [],
   "source": [
    "from dataclasses import dataclass\n",
    "\n",
    "@dataclass\n",
    "class NeuralNetwork:\n",
    "    input_nodes: int\n",
    "    hidden_nodes: int\n",
    "    output_nodes: int\n",
    "    learning_rate: float\n",
    "\n",
    "    def __post_init__(self) -> None:\n",
    "        # self.from_input_to_hidden_matrix_weights = numpy.random.rand(self.hidden_nodes, self.input_nodes) - 0.5  # gaussian normal random is preferred\n",
    "        self.from_input_to_hidden_matrix_weights = numpy.random.normal(0., pow(self.hidden_nodes, -0.5), (self.hidden_nodes, self.input_nodes))\n",
    "        # self.from_hidden_to_output_matrix_weights = numpy.random.rand(self.output_nodes, self.hidden_nodes) - 0.5\n",
    "        self.from_hidden_to_output_matrix_weights = numpy.random.normal(0., pow(self.output_nodes, -0.5), (self.output_nodes, self.hidden_nodes))"
   ]
  },
  {
   "cell_type": "code",
   "execution_count": 6,
   "id": "338a54b3-b7af-4ede-92f0-2ffaf4897405",
   "metadata": {},
   "outputs": [],
   "source": [
    "network = NeuralNetwork(100, 300, 50, 0.3)"
   ]
  },
  {
   "cell_type": "code",
   "execution_count": null,
   "id": "8dba96ea-10ca-49db-8794-4c5b3ed1bf46",
   "metadata": {},
   "outputs": [],
   "source": []
  },
  {
   "cell_type": "code",
   "execution_count": null,
   "id": "5fbcacd7-77b7-4aa3-8833-59038c638af8",
   "metadata": {},
   "outputs": [],
   "source": []
  }
 ],
 "metadata": {
  "kernelspec": {
   "display_name": "Python 3 (ipykernel)",
   "language": "python",
   "name": "python3"
  },
  "language_info": {
   "codemirror_mode": {
    "name": "ipython",
    "version": 3
   },
   "file_extension": ".py",
   "mimetype": "text/x-python",
   "name": "python",
   "nbconvert_exporter": "python",
   "pygments_lexer": "ipython3",
   "version": "3.12.11"
  }
 },
 "nbformat": 4,
 "nbformat_minor": 5
}
