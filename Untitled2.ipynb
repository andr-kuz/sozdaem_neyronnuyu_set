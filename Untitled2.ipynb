{
 "cells": [
  {
   "cell_type": "code",
   "execution_count": 16,
   "id": "d6c44cf5-642b-49e3-ac3f-2f3dd7e10d94",
   "metadata": {},
   "outputs": [],
   "source": [
    "from main import NeuralNetwork\n",
    "from matplotlib import pyplot as plt\n",
    "from numpy import argmax"
   ]
  },
  {
   "cell_type": "code",
   "execution_count": 17,
   "id": "9b0f50d2-5a31-4a1b-ac77-3003a3350eea",
   "metadata": {},
   "outputs": [],
   "source": [
    "input_nodes = 784  # 28 weight x 28 height pixels\n",
    "hidden_nodes = 100  # arbitary\n",
    "output_nodes = 10  # we need a result in range of 0 - 9\n",
    "network = NeuralNetwork(input_nodes, hidden_nodes, output_nodes, learning_rate=0.3)"
   ]
  },
  {
   "cell_type": "code",
   "execution_count": 18,
   "id": "1fcc6abb-7518-4615-b649-f00e4ba7443c",
   "metadata": {},
   "outputs": [],
   "source": [
    "from utils import prepare_mnist_line, load_file\n",
    "\n",
    "content = load_file('mnist_train.csv', as_lines=True)\n",
    "# training\n",
    "for line in content[:3000]:\n",
    "    inputs, targets = prepare_mnist_line(line)\n",
    "    network.train(inputs, targets)"
   ]
  },
  {
   "cell_type": "code",
   "execution_count": 21,
   "id": "4bdde320-5ce8-4a79-bae0-34de483e53be",
   "metadata": {},
   "outputs": [
    {
     "name": "stdout",
     "output_type": "stream",
     "text": [
      "3\n"
     ]
    },
    {
     "data": {
      "image/png": "[encoded data removed]",
      "text/plain": [
       "<Figure size 640x480 with 1 Axes>"
      ]
     },
     "metadata": {},
     "output_type": "display_data"
    }
   ],
   "source": [
    "line_number = 15\n",
    "# test\n",
    "content = load_file('mnist_test.csv', as_lines=True)\n",
    "line = content[line_number]\n",
    "inputs, targets = prepare_mnist_line(line)\n",
    "\n",
    "response = network.query(inputs)\n",
    "image_array = inputs.reshape((28, 28))\n",
    "plt.imshow(image_array, cmap='Greys', interpolation='None')\n",
    "print(argmax(response))"
   ]
  },
  {
   "cell_type": "code",
   "execution_count": null,
   "id": "ca2c2ce0-abbe-4217-bd20-60b3eadc4e06",
   "metadata": {},
   "outputs": [],
   "source": []
  }
 ],
 "metadata": {
  "kernelspec": {
   "display_name": "Python 3 (ipykernel)",
   "language": "python",
   "name": "python3"
  },
  "language_info": {
   "codemirror_mode": {
    "name": "ipython",
    "version": 3
   },
   "file_extension": ".py",
   "mimetype": "text/x-python",
   "name": "python",
   "nbconvert_exporter": "python",
   "pygments_lexer": "ipython3",
   "version": "3.12.11"
  }
 },
 "nbformat": 4,
 "nbformat_minor": 5
}
